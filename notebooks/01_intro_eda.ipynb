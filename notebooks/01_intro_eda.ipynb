{
 "cells": [
  {
   "cell_type": "markdown",
   "id": "791be587",
   "metadata": {},
   "source": [
    "# Capítulo 1 - Introdução e Análise Exploratória de Dados (EDA)\n",
    "\n",
    "Objetivos:\n",
    "- Carregar dados em Python.\n",
    "- Fazer primeiras estatísticas descritivas (`shape`, `info`, `describe`).\n",
    "- Visualizar distribuições simples com histograma.\n"
   ]
  },
  {
   "cell_type": "code",
   "execution_count": null,
   "id": "99a88d6d",
   "metadata": {},
   "outputs": [],
   "source": [
    "import pandas as pd\n",
    "import matplotlib.pyplot as plt\n"
   ]
  },
  {
   "cell_type": "code",
   "execution_count": null,
   "id": "4bbfad0f",
   "metadata": {},
   "outputs": [],
   "source": [
    "# Exemplo: dataset fictício de idades\n",
    "idades = [18, 22, 20, 19, 23, 21, 25, 30, 18, 22, 24, 27, 21, 19]\n",
    "s = pd.Series(idades)\n",
    "s.head()\n"
   ]
  },
  {
   "cell_type": "code",
   "execution_count": null,
   "id": "4b1966b2",
   "metadata": {},
   "outputs": [],
   "source": [
    "print(\"Resumo estatístico:\")\n",
    "print(s.describe())\n"
   ]
  },
  {
   "cell_type": "markdown",
   "id": "52e69e7b",
   "metadata": {},
   "source": [
    "O método `.describe()` retorna:\n",
    "- **count**: quantidade de elementos  \n",
    "- **mean**: média  \n",
    "- **std**: desvio padrão  \n",
    "- **min, 25%, 50%, 75%, max**: valores dos quartis e extremos  \n"
   ]
  },
  {
   "cell_type": "code",
   "execution_count": null,
   "id": "7590ccc8",
   "metadata": {},
   "outputs": [],
   "source": [
    "plt.hist(s, bins=6, edgecolor=\"black\")\n",
    "plt.title(\"Distribuição de Idades\")\n",
    "plt.xlabel(\"Idade\")\n",
    "plt.ylabel(\"Frequência\")\n",
    "plt.savefig(\"../images/cap1_hist.png\")\n",
    "plt.show()\n"
   ]
  },
  {
   "cell_type": "markdown",
   "id": "c03e681c",
   "metadata": {},
   "source": [
    "O histograma mostra a frequência de cada faixa de idades no dataset.\n"
   ]
  },
  {
   "cell_type": "markdown",
   "id": "26079546",
   "metadata": {},
   "source": [
    "## Conclusão do Capítulo 1\n",
    "- Aprendemos a carregar dados em uma `Series` do Pandas.\n",
    "- Usamos `.describe()` para estatísticas rápidas.\n",
    "- Construímos um histograma para visualizar a distribuição de idades.\n",
    "\n",
    "![Histograma de Idades](../images/cap1_hist.png)\n"
   ]
  }
 ],
 "metadata": {
  "kernelspec": {
   "display_name": ".venv",
   "language": "python",
   "name": "python3"
  },
  "language_info": {
   "codemirror_mode": {
    "name": "ipython",
    "version": 3
   },
   "file_extension": ".py",
   "mimetype": "text/x-python",
   "name": "python",
   "nbconvert_exporter": "python",
   "pygments_lexer": "ipython3",
   "version": "3.13.5"
  }
 },
 "nbformat": 4,
 "nbformat_minor": 5
}
