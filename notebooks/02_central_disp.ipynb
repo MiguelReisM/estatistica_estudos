{
 "cells": [
  {
   "cell_type": "markdown",
   "id": "e8a101ac",
   "metadata": {},
   "source": [
    "# Capítulo 2 - Medidas de Centralidade e Dispersão\n",
    "\n",
    "Objetivos:\n",
    "- Calcular média, mediana e moda.\n",
    "- Medir dispersão: variância, desvio padrão, amplitude e IQR.\n",
    "- Visualizar a distribuição com boxplot e interpretar quartis/outliers.\n"
   ]
  },
  {
   "cell_type": "code",
   "execution_count": null,
   "id": "e1e196b0",
   "metadata": {},
   "outputs": [],
   "source": [
    "import pandas as pd\n",
    "import matplotlib.pyplot as plt\n",
    "from statistics import mode\n"
   ]
  },
  {
   "cell_type": "code",
   "execution_count": null,
   "id": "bbf5878e",
   "metadata": {},
   "outputs": [],
   "source": [
    "# Exemplo: notas fictícias de uma turma (0 a 10)\n",
    "notas = [5.5, 7.0, 8.5, 9.0, 6.0, 7.5, 8.0, 6.5, 7.0, 9.5,\n",
    "         8.0, 7.0, 6.0, 8.5, 5.0, 9.0, 7.5, 8.0, 6.5, 7.0]\n",
    "s = pd.Series(notas)\n",
    "s.head()\n"
   ]
  },
  {
   "cell_type": "code",
   "execution_count": null,
   "id": "c9850c63",
   "metadata": {},
   "outputs": [],
   "source": [
    "media = s.mean()\n",
    "mediana = s.median()\n",
    "moda = mode(notas)  # statistics.mode retorna a moda (se houver tie, pode levantar erro)\n",
    "\n",
    "media, mediana, moda\n"
   ]
  },
  {
   "cell_type": "markdown",
   "id": "d96334fc",
   "metadata": {},
   "source": [
    "**Centralidade**\n",
    "- **Média**: ponto de equilíbrio (influenciada por valores extremos).\n",
    "- **Mediana**: valor central (robusta a outliers).\n",
    "- **Moda**: valor mais frequente.\n"
   ]
  },
  {
   "cell_type": "code",
   "execution_count": null,
   "id": "02799a59",
   "metadata": {},
   "outputs": [],
   "source": [
    "variancia = s.var(ddof=1)   # amostral (ddof=1)\n",
    "desvio_padrao = s.std(ddof=1)\n",
    "amplitude = s.max() - s.min()\n",
    "\n",
    "# Quartis e IQR\n",
    "q1 = s.quantile(0.25)\n",
    "q3 = s.quantile(0.75)\n",
    "iqr = q3 - q1\n",
    "\n",
    "variancia, desvio_padrao, amplitude, q1, q3, iqr\n"
   ]
  },
  {
   "cell_type": "markdown",
   "id": "e00d9780",
   "metadata": {},
   "source": [
    "**Dispersão**\n",
    "- **Variância / Desvio-padrão**: quão espalhados estão os dados em torno da média.\n",
    "- **Amplitude**: diferença entre máx e mín.\n",
    "- **Quartis (Q1, Q3) e IQR (Q3 - Q1)**: dispersão “robusta” (menos sensível a outliers).\n"
   ]
  },
  {
   "cell_type": "code",
   "execution_count": null,
   "id": "b5a1763a",
   "metadata": {},
   "outputs": [],
   "source": [
    "limite_inferior = q1 - 1.5 * iqr\n",
    "limite_superior = q3 + 1.5 * iqr\n",
    "outliers = s[(s < limite_inferior) | (s > limite_superior)]\n",
    "\n",
    "limite_inferior, limite_superior, outliers.tolist()\n"
   ]
  },
  {
   "cell_type": "code",
   "execution_count": null,
   "id": "303949d8",
   "metadata": {},
   "outputs": [],
   "source": [
    "plt.boxplot(notas, vert=True, patch_artist=True)\n",
    "plt.title(\"Boxplot das Notas\")\n",
    "plt.ylabel(\"Nota\")\n",
    "plt.grid(axis=\"y\", alpha=0.4)\n",
    "plt.savefig(\"../images/cap2_boxplot.png\")\n",
    "plt.show()\n"
   ]
  },
  {
   "cell_type": "markdown",
   "id": "e493e599",
   "metadata": {},
   "source": [
    "## Conclusão do Capítulo 2\n",
    "- Média, mediana e moda resumem a **tendência central**.\n",
    "- Variância, desvio-padrão, amplitude e IQR medem a **dispersão**.\n",
    "- O **boxplot** resume mediana, quartis e evidencia possíveis **outliers**.\n",
    "- Para relatórios, combine **tabela de métricas** + **boxplot**.\n"
   ]
  }
 ],
 "metadata": {
  "kernelspec": {
   "display_name": ".venv",
   "language": "python",
   "name": "python3"
  },
  "language_info": {
   "name": "python",
   "version": "3.13.5"
  }
 },
 "nbformat": 4,
 "nbformat_minor": 5
}
