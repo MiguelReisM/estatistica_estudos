{
 "cells": [
  {
   "cell_type": "markdown",
   "id": "8d3d753a",
   "metadata": {},
   "source": [
    "# Capítulo 3 - PMF, CDF e PDF\n",
    "\n",
    "Objetivos:\n",
    "- Entender a diferença entre variáveis **discretas** e **contínuas**.\n",
    "- Calcular e visualizar **PMF (Probability Mass Function)** para dados discretos.\n",
    "- Calcular e visualizar **CDF (Cumulative Distribution Function)**.\n",
    "- Entender e visualizar **PDF (Probability Density Function)** para dados contínuos.\n"
   ]
  },
  {
   "cell_type": "code",
   "execution_count": null,
   "id": "c82a42ac",
   "metadata": {
    "vscode": {
     "languageId": "plaintext"
    }
   },
   "outputs": [],
   "source": [
    "import pandas as pd\n",
    "import matplotlib.pyplot as plt\n",
    "import numpy as np\n",
    "from scipy.stats import norm\n"
   ]
  },
  {
   "cell_type": "code",
   "execution_count": null,
   "id": "7e78aaae",
   "metadata": {
    "vscode": {
     "languageId": "plaintext"
    }
   },
   "outputs": [],
   "source": [
    "# Exemplo: lançamentos de um dado (variável discreta)\n",
    "dados = [1,2,3,4,5,6,6,6,3,2,1,4,6,5,3,2,2,6,1,4]\n",
    "s = pd.Series(dados)\n",
    "\n",
    "pmf = s.value_counts(normalize=True).sort_index()\n",
    "print(\"PMF (probabilidades):\")\n",
    "print(pmf)\n",
    "\n",
    "pmf.plot(kind=\"bar\")\n",
    "plt.title(\"PMF - Distribuição de um dado\")\n",
    "plt.xlabel(\"Número no dado\")\n",
    "plt.ylabel(\"Probabilidade\")\n",
    "plt.savefig(\"../images/pmf_dado.png\")\n",
    "plt.show()\n"
   ]
  },
  {
   "cell_type": "markdown",
   "id": "0e51d27e",
   "metadata": {},
   "source": [
    "A **PMF** mostra a probabilidade de cada valor discreto.\n",
    "No exemplo acima:\n",
    "- `s.value_counts(normalize=True)` conta as ocorrências e divide pelo total.\n",
    "- O resultado é a probabilidade empírica de cada face do dado.\n"
   ]
  },
  {
   "cell_type": "code",
   "execution_count": null,
   "id": "d66fc4b0",
   "metadata": {
    "vscode": {
     "languageId": "plaintext"
    }
   },
   "outputs": [],
   "source": [
    "cdf_dado = pmf.cumsum()\n",
    "print(\"CDF (probabilidades acumuladas):\")\n",
    "print(cdf_dado)\n",
    "\n",
    "cdf_dado.plot(drawstyle=\"steps-post\", marker=\"o\")\n",
    "plt.title(\"CDF - Dado (discreto)\")\n",
    "plt.xlabel(\"Número no dado\")\n",
    "plt.ylabel(\"Probabilidade acumulada\")\n",
    "plt.savefig(\"../images/cdf_dado.png\")\n",
    "plt.show()\n"
   ]
  },
  {
   "cell_type": "markdown",
   "id": "7937c4ca",
   "metadata": {},
   "source": [
    "A **CDF** (discreta) é a soma acumulada das probabilidades.\n",
    "Exemplo: CDF(3) = P(X ≤ 3).\n"
   ]
  },
  {
   "cell_type": "code",
   "execution_count": null,
   "id": "82f7eb61",
   "metadata": {
    "vscode": {
     "languageId": "plaintext"
    }
   },
   "outputs": [],
   "source": [
    "# Exemplo: altura ~ Normal(170, 10)\n",
    "x = np.linspace(140, 200, 500)\n",
    "pdf = norm.pdf(x, loc=170, scale=10)\n",
    "\n",
    "plt.plot(x, pdf)\n",
    "plt.title(\"PDF - Altura (Normal(170,10))\")\n",
    "plt.xlabel(\"Altura (cm)\")\n",
    "plt.ylabel(\"Densidade\")\n",
    "plt.savefig(\"../images/pdf_normal.png\")\n",
    "plt.show()\n"
   ]
  },
  {
   "cell_type": "markdown",
   "id": "d3fcd7cb",
   "metadata": {},
   "source": [
    "A **PDF** representa a função densidade de probabilidade.\n",
    "- Usada para variáveis contínuas.\n",
    "- A probabilidade de um valor exato é ~0.\n",
    "- O que importa é a **área sob a curva em um intervalo**.\n"
   ]
  },
  {
   "cell_type": "code",
   "execution_count": null,
   "id": "68f7fb6f",
   "metadata": {
    "vscode": {
     "languageId": "plaintext"
    }
   },
   "outputs": [],
   "source": [
    "cdf = norm.cdf(x, loc=170, scale=10)\n",
    "\n",
    "plt.plot(x, cdf)\n",
    "plt.title(\"CDF - Altura (Normal(170,10))\")\n",
    "plt.xlabel(\"Altura (cm)\")\n",
    "plt.ylabel(\"Probabilidade acumulada\")\n",
    "plt.savefig(\"../images/cdf_normal.png\")\n",
    "plt.show()\n"
   ]
  },
  {
   "cell_type": "markdown",
   "id": "4c118b4c",
   "metadata": {},
   "source": [
    "## Conclusão do Capítulo 3\n",
    "- **PMF**: probabilidade em variáveis discretas (ex.: dado).\n",
    "- **CDF**: probabilidade acumulada até um valor.\n",
    "- **PDF**: densidade de probabilidade em variáveis contínuas.\n",
    "\n",
    "Em resumo:\n",
    "- PMF → discreto\n",
    "- PDF → contínuo\n",
    "- CDF → acumulado (vale para os dois)\n"
   ]
  }
 ],
 "metadata": {
  "language_info": {
   "name": "python"
  }
 },
 "nbformat": 4,
 "nbformat_minor": 5
}
